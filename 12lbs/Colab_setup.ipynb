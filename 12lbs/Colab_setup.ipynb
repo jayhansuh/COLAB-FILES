{
 "cells": [
  {
   "attachments": {},
   "cell_type": "markdown",
   "metadata": {},
   "source": [
    "# Set up Colab"
   ]
  },
  {
   "attachments": {},
   "cell_type": "markdown",
   "metadata": {},
   "source": [
    "## Useful Links\n",
    "\n",
    "CLIP paper:\n",
    "https://arxiv.org/pdf/2103.00020.pdf\n",
    "\n",
    "CLIP Github repository:\n",
    "https://github.com/openai/CLIP\n",
    "\n",
    "CLIP Variants:\n",
    "https://huggingface.co/mlunar/clip-variants\n",
    "\n",
    "GRIT paper:\n",
    "https://arxiv.org/pdf/2204.13653.pdf\n",
    "\n",
    "GRIT official website:\n",
    "https://allenai.org/project/grit/data\n",
    "\n",
    "GRIT Github repo:\n",
    "https://github.com/allenai/grit_official"
   ]
  },
  {
   "cell_type": "code",
   "execution_count": null,
   "metadata": {},
   "outputs": [],
   "source": [
    "######## Mount the drive ########\n",
    "\n",
    "from google.colab import drive\n",
    "drive.mount('/content/drive/')\n",
    "\n",
    "######## Create folders ########\n",
    "\n",
    "FOLDERNAME_BASE = '/content/drive/MyDrive'\n",
    "FOLDERNAME_WORKSPACE = 'COLAB-FILES/12lbs'\n",
    "FOLDERNAME_GRIT = 'grit_official'\n",
    "FOLDERNAME_CLIP = 'CLIP'\n",
    "FOLDERNAME_VENV = 'venv'\n",
    "\n",
    "import os, sys\n",
    "if(not os.path.isdir(FOLDERNAME_BASE + '/' + FOLDERNAME_VENV)):\n",
    "    os.mkdir(FOLDERNAME_BASE + '/' + FOLDERNAME_VENV)\n",
    "if(not os.path.isdir(FOLDERNAME_BASE + '/' + FOLDERNAME_WORKSPACE)):\n",
    "    os.mkdir(FOLDERNAME_BASE + '/' + FOLDERNAME_WORKSPACE)"
   ]
  },
  {
   "cell_type": "code",
   "execution_count": null,
   "metadata": {},
   "outputs": [],
   "source": [
    "######## Git clone ########\n",
    "\n",
    "######## personal workspace repository ########\n",
    "#!git clone https://github.com/jayhansuh/COLAB-FILES.git drive/MyDrive/COLAB-FILES\n",
    "\n",
    "######## grit_official ########\n",
    "!git clone https://github.com/allenai/grit_official.git $FOLDERNAME_BASE/$FOLDERNAME_GRIT\n",
    "\n",
    "######## CLIP ########\n",
    "!git clone https://github.com/openai/CLIP $FOLDERNAME_BASE/$FOLDERNAME_CLIP"
   ]
  },
  {
   "cell_type": "code",
   "execution_count": null,
   "metadata": {},
   "outputs": [],
   "source": [
    "######## Create virtual environments ########\n",
    "\n",
    "# %cd $FOLDERNAME_BASE/$FOLDERNAME_VENV\n",
    "# !pip3 install virtualenv\n",
    "# conda install --yes -c pytorch pytorch=1.7.1 torchvision cudatoolkit=11.0\n",
    "# !virtualenv $FOLDERNAME_CLIP\n",
    "# !virtualenv $FOLDERNAME_GRIT"
   ]
  },
  {
   "cell_type": "code",
   "execution_count": null,
   "metadata": {},
   "outputs": [],
   "source": [
    "######## Conda setup ########\n",
    "\n",
    "# try:\n",
    "#   import condacolab\n",
    "#   condacolab.check()\n",
    "# except:\n",
    "#   !pip install -q condacolab\n",
    "#   import condacolab\n",
    "#   condacolab.install()\n",
    "\n",
    "# !conda update -n base -c conda-forge conda"
   ]
  }
 ],
 "metadata": {
  "language_info": {
   "name": "python"
  },
  "orig_nbformat": 4
 },
 "nbformat": 4,
 "nbformat_minor": 2
}
